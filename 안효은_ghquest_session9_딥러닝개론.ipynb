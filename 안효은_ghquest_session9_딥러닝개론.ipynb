{
 "cells": [
  {
   "cell_type": "markdown",
   "metadata": {
    "id": "hK6WN15uKd2k"
   },
   "source": [
    "# 퀘스트\n",
    "\n",
    "Fashion MNIST 데이터셋에 대한 분류기를 만들고자 합니다.\n",
    "\n",
    "입력값을 총 10개의 클래스로 분류하고자 하며, input_shape는 (28,28)이어야 합니다."
   ]
  },
  {
   "cell_type": "markdown",
   "metadata": {
    "id": "wxmVIQYnPMHm"
   },
   "source": [
    "## import"
   ]
  },
  {
   "cell_type": "markdown",
   "metadata": {
    "id": "4_F26ED6P9rS"
   },
   "source": [
    "필요한 모듈을 import 해주세요!!!"
   ]
  },
  {
   "cell_type": "code",
   "execution_count": 1,
   "metadata": {
    "id": "VjGu8YbtVBS-"
   },
   "outputs": [],
   "source": [
    "import numpy as np\n",
    "import matplotlib.pyplot as plt\n",
    "import tensorflow as tf\n",
    "import pandas as pd\n",
    "\n",
    "from tensorflow.keras.layers import Dense, Flatten\n",
    "from tensorflow.keras.models import Sequential\n",
    "from tensorflow.keras.callbacks import ModelCheckpoint"
   ]
  },
  {
   "cell_type": "markdown",
   "metadata": {
    "id": "5AsnNh3VPLP2"
   },
   "source": [
    "## 전처리"
   ]
  },
  {
   "cell_type": "markdown",
   "metadata": {
    "id": "j3z9510GQwcL"
   },
   "source": [
    "Fashion MNIST 데이터 셋은 `tf.keras.datasets.fashion_mnist`로 불러올 수 있습니다."
   ]
  },
  {
   "cell_type": "code",
   "execution_count": 2,
   "metadata": {
    "id": "5eYApVGCVHLn"
   },
   "outputs": [],
   "source": [
    "fashion_mnist = tf.keras.datasets.fashion_mnist"
   ]
  },
  {
   "cell_type": "markdown",
   "metadata": {
    "id": "s8SCqmsaRXHF"
   },
   "source": [
    "데이터 셋을 불러와, train/validation set을 구성해줍니다."
   ]
  },
  {
   "cell_type": "code",
   "execution_count": 3,
   "metadata": {
    "colab": {
     "base_uri": "https://localhost:8080/",
     "height": 167
    },
    "id": "d04OUSwARdIG",
    "outputId": "edf2ca0d-4901-4216-a85d-10a2d86317f1"
   },
   "outputs": [
    {
     "name": "stdout",
     "output_type": "stream",
     "text": [
      "Downloading data from https://storage.googleapis.com/tensorflow/tf-keras-datasets/train-labels-idx1-ubyte.gz\n",
      "32768/29515 [=================================] - 0s 0us/step\n",
      "Downloading data from https://storage.googleapis.com/tensorflow/tf-keras-datasets/train-images-idx3-ubyte.gz\n",
      "26427392/26421880 [==============================] - 0s 0us/step\n",
      "Downloading data from https://storage.googleapis.com/tensorflow/tf-keras-datasets/t10k-labels-idx1-ubyte.gz\n",
      "8192/5148 [===============================================] - 0s 0us/step\n",
      "Downloading data from https://storage.googleapis.com/tensorflow/tf-keras-datasets/t10k-images-idx3-ubyte.gz\n",
      "4423680/4422102 [==============================] - 0s 0us/step\n"
     ]
    }
   ],
   "source": [
    "(x_train, y_train), (x_valid, y_valid) = fashion_mnist.load_data()"
   ]
  },
  {
   "cell_type": "markdown",
   "metadata": {
    "id": "eUJemN1TRkWi"
   },
   "source": [
    "정상적으로 로드 되었는지 확인해볼까요? (train set과 validation set의 크기를 살펴봅시다 !)"
   ]
  },
  {
   "cell_type": "code",
   "execution_count": 4,
   "metadata": {
    "colab": {
     "base_uri": "https://localhost:8080/",
     "height": 36
    },
    "id": "7DEGdz0RRniU",
    "outputId": "eefed20a-ea28-4882-90be-6afdfd20026e"
   },
   "outputs": [
    {
     "data": {
      "text/plain": [
       "((60000, 28, 28), (10000, 28, 28))"
      ]
     },
     "execution_count": 4,
     "metadata": {
      "tags": []
     },
     "output_type": "execute_result"
    }
   ],
   "source": [
    "x_train.shape, x_valid.shape"
   ]
  },
  {
   "cell_type": "code",
   "execution_count": 5,
   "metadata": {
    "colab": {
     "base_uri": "https://localhost:8080/",
     "height": 36
    },
    "id": "kkGDLezpRpLx",
    "outputId": "402ed872-aebc-44c6-a028-ab9d4a3680ed"
   },
   "outputs": [
    {
     "data": {
      "text/plain": [
       "((60000,), (10000,))"
      ]
     },
     "execution_count": 5,
     "metadata": {
      "tags": []
     },
     "output_type": "execute_result"
    }
   ],
   "source": [
    "y_train.shape, y_valid.shape"
   ]
  },
  {
   "cell_type": "markdown",
   "metadata": {
    "id": "dkN8NS3hRs0Y"
   },
   "source": [
    "데이터셋 시각화"
   ]
  },
  {
   "cell_type": "code",
   "execution_count": 6,
   "metadata": {
    "colab": {
     "base_uri": "https://localhost:8080/",
     "height": 350
    },
    "id": "IVlWWd5VRsgr",
    "outputId": "a7a1df69-b90d-4789-f2cc-682e299d8366"
   },
   "outputs": [
    {
     "data": {
      "image/png": "[encoded data removed]",
      "text/plain": [
       "<Figure size 720x360 with 10 Axes>"
      ]
     },
     "metadata": {
      "tags": []
     },
     "output_type": "display_data"
    }
   ],
   "source": [
    "fig, axes = plt.subplots(2, 5)\n",
    "fig.set_size_inches(10, 5)\n",
    "\n",
    "for i in range(10):\n",
    "    axes[i//5, i%5].imshow(x_train[i], cmap='gray')\n",
    "    axes[i//5, i%5].set_title('No. %02d' % y_train[i], fontsize=18)\n",
    "    plt.setp( axes[i//5, i%5].get_xticklabels(), visible=False)\n",
    "    plt.setp( axes[i//5, i%5].get_yticklabels(), visible=False)\n",
    "    axes[i//5, i%5].axis('off')\n",
    "\n",
    "plt.tight_layout()\n",
    "plt.show()"
   ]
  },
  {
   "cell_type": "markdown",
   "metadata": {
    "id": "DMlMnuUPRyn1"
   },
   "source": [
    "**이미지 정규화 (Normalization)**\n",
    "* 모든 이미지 픽셀 값들을 0 ~ 1 사이의 값으로 정규화합니다.\n",
    "* x_train, x_valid 에 대해서만 정규화해주도록 합니다\n",
    "\n",
    "정규화 전의 최소값과 최대값을 확인합니다."
   ]
  },
  {
   "cell_type": "code",
   "execution_count": 7,
   "metadata": {
    "colab": {
     "base_uri": "https://localhost:8080/",
     "height": 36
    },
    "id": "iAdXhKiTSN9y",
    "outputId": "fb806b0d-e974-4862-e53d-34ad1af1eeeb"
   },
   "outputs": [
    {
     "data": {
      "text/plain": [
       "(0, 255)"
      ]
     },
     "execution_count": 7,
     "metadata": {
      "tags": []
     },
     "output_type": "execute_result"
    }
   ],
   "source": [
    "x_train.min(), x_train.max()"
   ]
  },
  {
   "cell_type": "code",
   "execution_count": 8,
   "metadata": {
    "id": "MumVcIFmSPjg"
   },
   "outputs": [],
   "source": [
    "# 정규화 코드\n",
    "x_train = x_train / 255\n",
    "x_valid = x_valid / 255"
   ]
  },
  {
   "cell_type": "code",
   "execution_count": 9,
   "metadata": {
    "colab": {
     "base_uri": "https://localhost:8080/",
     "height": 36
    },
    "id": "mLxyFWcmSSIW",
    "outputId": "c818f863-5511-44e0-cd0a-15baff42c390"
   },
   "outputs": [
    {
     "data": {
      "text/plain": [
       "(0.0, 1.0)"
      ]
     },
     "execution_count": 9,
     "metadata": {
      "tags": []
     },
     "output_type": "execute_result"
    }
   ],
   "source": [
    "# 정규화 후 최소값/최대값 확인\n",
    "x_train.min(), x_train.max()"
   ]
  },
  {
   "cell_type": "markdown",
   "metadata": {
    "id": "zL98DG4pPKzb"
   },
   "source": [
    "## 모델링"
   ]
  },
  {
   "cell_type": "markdown",
   "metadata": {
    "id": "hloVV1MrSYh5"
   },
   "source": [
    "이제 Modeling 차례입니다.\n",
    "\n",
    "`Sequential` 모델 안에서 층을 깊게 쌓아 올려 주면 됩니다.\n",
    "\n",
    "1. Dense 레이어는 2D 형태의 데이터를 받아들이지 못합니다. Flatten 레이어로 2D -> 1D로 변환해주세요\n",
    "2. 깊은 출력층과 더 많은 Layer를 쌓습니다.\n",
    "3. Dense Layer에 `activation='relu'`를 적용합니다.\n",
    "4. 분류(Classification)의 마지막 층의 출력 숫자는 분류하고자 하는 클래스 갯수와 **같아야** 합니다.\n"
   ]
  },
  {
   "cell_type": "code",
   "execution_count": 10,
   "metadata": {
    "colab": {
     "base_uri": "https://localhost:8080/",
     "height": 36
    },
    "id": "tceLxXYadBzH",
    "outputId": "04978cc6-d7eb-47ca-bdd0-0082ec9332f0"
   },
   "outputs": [
    {
     "data": {
      "text/plain": [
       "(60000, 28, 28)"
      ]
     },
     "execution_count": 10,
     "metadata": {
      "tags": []
     },
     "output_type": "execute_result"
    }
   ],
   "source": [
    "tf.keras.backend.set_floatx('float64')\n",
    "x_train.shape"
   ]
  },
  {
   "cell_type": "code",
   "execution_count": 11,
   "metadata": {
    "colab": {
     "base_uri": "https://localhost:8080/",
     "height": 36
    },
    "id": "ueSes63udM-I",
    "outputId": "1e845dba-1d6a-4aa7-b7fd-257e4ce54ede"
   },
   "outputs": [
    {
     "name": "stdout",
     "output_type": "stream",
     "text": [
      "(60000, 784)\n"
     ]
    }
   ],
   "source": [
    "x = Flatten(input_shape=(28, 28))\n",
    "print(x(x_train).shape)"
   ]
  },
  {
   "cell_type": "code",
   "execution_count": 12,
   "metadata": {
    "id": "D8CO819wSgPQ"
   },
   "outputs": [],
   "source": [
    "model = Sequential([\n",
    "    # Flatten으로 shape 펼치기, input_shape는 (28, 28)로 지정합니다.\n",
    "    Flatten(input_shape=(28, 28)),\n",
    "    # Dense Layer\n",
    "    Dense(512, activation='relu'),\n",
    "    Dense(256, activation='relu'),\n",
    "    Dense(128, activation='relu'),\n",
    "    Dense(64, activation='relu'),\n",
    "    Dense(32, activation='relu'),\n",
    "    # Classification을 위한 Softmax \n",
    "    # 출력층의 갯수는 클래스의 갯수와 동일하게 맞춰줍니다 (10개), activation도 잊지마세요!\n",
    "    Dense(10, activation='softmax')\n",
    "])"
   ]
  },
  {
   "cell_type": "code",
   "execution_count": 13,
   "metadata": {
    "colab": {
     "base_uri": "https://localhost:8080/",
     "height": 428
    },
    "id": "AoIGDEJFSn03",
    "outputId": "67980626-6799-47be-deb6-81d9572109d5"
   },
   "outputs": [
    {
     "name": "stdout",
     "output_type": "stream",
     "text": [
      "Model: \"sequential\"\n",
      "_________________________________________________________________\n",
      "Layer (type)                 Output Shape              Param #   \n",
      "=================================================================\n",
      "flatten_1 (Flatten)          (None, 784)               0         \n",
      "_________________________________________________________________\n",
      "dense (Dense)                (None, 512)               401920    \n",
      "_________________________________________________________________\n",
      "dense_1 (Dense)              (None, 256)               131328    \n",
      "_________________________________________________________________\n",
      "dense_2 (Dense)              (None, 128)               32896     \n",
      "_________________________________________________________________\n",
      "dense_3 (Dense)              (None, 64)                8256      \n",
      "_________________________________________________________________\n",
      "dense_4 (Dense)              (None, 32)                2080      \n",
      "_________________________________________________________________\n",
      "dense_5 (Dense)              (None, 10)                330       \n",
      "=================================================================\n",
      "Total params: 576,810\n",
      "Trainable params: 576,810\n",
      "Non-trainable params: 0\n",
      "_________________________________________________________________\n"
     ]
    }
   ],
   "source": [
    "# 모델 요약\n",
    "model.summary()"
   ]
  },
  {
   "cell_type": "markdown",
   "metadata": {
    "id": "aRC8FfiHPKPt"
   },
   "source": [
    "## 컴파일(compile)"
   ]
  },
  {
   "cell_type": "markdown",
   "metadata": {
    "id": "verlufZ9Sq-p"
   },
   "source": [
    "1. `optimizer`는 가장 최적화가 잘되는 알고리즘인 'adam'을 사용합니다.\n",
    "2. `loss`는 무엇을 지정하면 좋을까요? (`categorical_crossentropy` / `sparse_categorical_crossentropy`)\n",
    "3. `metrics`를 'acc' 혹은 'accuracy'로 지정하면, 학습시 정확도를 모니터링 할 수 있습니다."
   ]
  },
  {
   "cell_type": "code",
   "execution_count": 14,
   "metadata": {
    "colab": {
     "base_uri": "https://localhost:8080/",
     "height": 36
    },
    "id": "xy7azlcBSuB_",
    "outputId": "6461c0a8-ecdc-43e4-8bad-4404c1edc595"
   },
   "outputs": [
    {
     "data": {
      "text/plain": [
       "9"
      ]
     },
     "execution_count": 14,
     "metadata": {
      "tags": []
     },
     "output_type": "execute_result"
    }
   ],
   "source": [
    "#원핫인코딩 체크\n",
    "y_train[0]"
   ]
  },
  {
   "cell_type": "code",
   "execution_count": 15,
   "metadata": {
    "id": "xb2FVJS2ept_"
   },
   "outputs": [],
   "source": [
    "#원핫인코딩이 안되어있다. loss는 sparse_categorical_crossentropy로 설정\n",
    "model.compile(optimizer='adam', loss='sparse_categorical_crossentropy', metrics=['acc'])"
   ]
  },
  {
   "cell_type": "markdown",
   "metadata": {
    "id": "SEA3Xzm6S0xq"
   },
   "source": [
    "`val_loss` 기준으로 epoch 마다 최적의 모델을 저장하기 위하여, ModelCheckpoint를 만듭니다.\n",
    "* `checkpoint_path`는 모델이 저장될 파일 명을 설정합니다.\n",
    "* `ModelCheckpoint`을 선언하고, 적절한 옵션 값을 지정합니다."
   ]
  },
  {
   "cell_type": "code",
   "execution_count": 16,
   "metadata": {
    "id": "j1zuu2fBS3v9"
   },
   "outputs": [],
   "source": [
    "checkpoint_path =\"tmp_checkpoint.ckpt\"\n",
    "checkpoint = ModelCheckpoint(filepath=checkpoint_path, \n",
    "                             save_weights_only=True, \n",
    "                             save_best_only=True, \n",
    "                             monitor='val_loss', \n",
    "                             verbose=1)"
   ]
  },
  {
   "cell_type": "markdown",
   "metadata": {
    "id": "nae1JTklPKM-"
   },
   "source": [
    "## 학습(fit)"
   ]
  },
  {
   "cell_type": "markdown",
   "metadata": {
    "id": "rUG8T14dTC8b"
   },
   "source": [
    "1. `validation_data`를 반드시 지정합니다.\n",
    "2. `epochs`을 적절하게 지정합니다.\n",
    "3. `callbacks`에 바로 위에서 만든 checkpoint를 지정합니다."
   ]
  },
  {
   "cell_type": "code",
   "execution_count": 17,
   "metadata": {
    "colab": {
     "base_uri": "https://localhost:8080/",
     "height": 1000
    },
    "id": "S3iP_MaiTBIm",
    "outputId": "c8cb155d-fcf6-4cfe-a2e3-2c078dbd5a55"
   },
   "outputs": [
    {
     "name": "stdout",
     "output_type": "stream",
     "text": [
      "Epoch 1/20\n",
      "1873/1875 [============================>.] - ETA: 0s - loss: 0.5055 - acc: 0.8184\n",
      "Epoch 00001: val_loss improved from inf to 0.41327, saving model to tmp_checkpoint.ckpt\n",
      "1875/1875 [==============================] - 22s 11ms/step - loss: 0.5053 - acc: 0.8185 - val_loss: 0.4133 - val_acc: 0.8517\n",
      "Epoch 2/20\n",
      "1872/1875 [============================>.] - ETA: 0s - loss: 0.3721 - acc: 0.8635\n",
      "Epoch 00002: val_loss improved from 0.41327 to 0.39177, saving model to tmp_checkpoint.ckpt\n",
      "1875/1875 [==============================] - 22s 12ms/step - loss: 0.3720 - acc: 0.8635 - val_loss: 0.3918 - val_acc: 0.8597\n",
      "Epoch 3/20\n",
      "1871/1875 [============================>.] - ETA: 0s - loss: 0.3388 - acc: 0.8764\n",
      "Epoch 00003: val_loss improved from 0.39177 to 0.35558, saving model to tmp_checkpoint.ckpt\n",
      "1875/1875 [==============================] - 21s 11ms/step - loss: 0.3389 - acc: 0.8763 - val_loss: 0.3556 - val_acc: 0.8726\n",
      "Epoch 4/20\n",
      "1875/1875 [==============================] - ETA: 0s - loss: 0.3126 - acc: 0.8858\n",
      "Epoch 00004: val_loss did not improve from 0.35558\n",
      "1875/1875 [==============================] - 22s 12ms/step - loss: 0.3126 - acc: 0.8858 - val_loss: 0.3606 - val_acc: 0.8739\n",
      "Epoch 5/20\n",
      "1872/1875 [============================>.] - ETA: 0s - loss: 0.2942 - acc: 0.8902\n",
      "Epoch 00005: val_loss improved from 0.35558 to 0.35300, saving model to tmp_checkpoint.ckpt\n",
      "1875/1875 [==============================] - 22s 12ms/step - loss: 0.2942 - acc: 0.8902 - val_loss: 0.3530 - val_acc: 0.8771\n",
      "Epoch 6/20\n",
      "1871/1875 [============================>.] - ETA: 0s - loss: 0.2790 - acc: 0.8962\n",
      "Epoch 00006: val_loss improved from 0.35300 to 0.34364, saving model to tmp_checkpoint.ckpt\n",
      "1875/1875 [==============================] - 22s 12ms/step - loss: 0.2793 - acc: 0.8961 - val_loss: 0.3436 - val_acc: 0.8783\n",
      "Epoch 7/20\n",
      "1874/1875 [============================>.] - ETA: 0s - loss: 0.2691 - acc: 0.8998\n",
      "Epoch 00007: val_loss improved from 0.34364 to 0.33237, saving model to tmp_checkpoint.ckpt\n",
      "1875/1875 [==============================] - 22s 12ms/step - loss: 0.2691 - acc: 0.8998 - val_loss: 0.3324 - val_acc: 0.8825\n",
      "Epoch 8/20\n",
      "1874/1875 [============================>.] - ETA: 0s - loss: 0.2590 - acc: 0.9027\n",
      "Epoch 00008: val_loss did not improve from 0.33237\n",
      "1875/1875 [==============================] - 22s 12ms/step - loss: 0.2589 - acc: 0.9028 - val_loss: 0.3330 - val_acc: 0.8804\n",
      "Epoch 9/20\n",
      "1871/1875 [============================>.] - ETA: 0s - loss: 0.2489 - acc: 0.9078\n",
      "Epoch 00009: val_loss did not improve from 0.33237\n",
      "1875/1875 [==============================] - 21s 11ms/step - loss: 0.2488 - acc: 0.9079 - val_loss: 0.3498 - val_acc: 0.8741\n",
      "Epoch 10/20\n",
      "1873/1875 [============================>.] - ETA: 0s - loss: 0.2366 - acc: 0.9108\n",
      "Epoch 00010: val_loss did not improve from 0.33237\n",
      "1875/1875 [==============================] - 21s 11ms/step - loss: 0.2365 - acc: 0.9108 - val_loss: 0.3542 - val_acc: 0.8795\n",
      "Epoch 11/20\n",
      "1872/1875 [============================>.] - ETA: 0s - loss: 0.2282 - acc: 0.9135\n",
      "Epoch 00011: val_loss improved from 0.33237 to 0.32459, saving model to tmp_checkpoint.ckpt\n",
      "1875/1875 [==============================] - 21s 11ms/step - loss: 0.2284 - acc: 0.9134 - val_loss: 0.3246 - val_acc: 0.8870\n",
      "Epoch 12/20\n",
      "1872/1875 [============================>.] - ETA: 0s - loss: 0.2221 - acc: 0.9161\n",
      "Epoch 00012: val_loss improved from 0.32459 to 0.32258, saving model to tmp_checkpoint.ckpt\n",
      "1875/1875 [==============================] - 21s 11ms/step - loss: 0.2220 - acc: 0.9161 - val_loss: 0.3226 - val_acc: 0.8918\n",
      "Epoch 13/20\n",
      "1871/1875 [============================>.] - ETA: 0s - loss: 0.2165 - acc: 0.9181\n",
      "Epoch 00013: val_loss did not improve from 0.32258\n",
      "1875/1875 [==============================] - 21s 11ms/step - loss: 0.2165 - acc: 0.9181 - val_loss: 0.3400 - val_acc: 0.8925\n",
      "Epoch 14/20\n",
      "1871/1875 [============================>.] - ETA: 0s - loss: 0.2091 - acc: 0.9209\n",
      "Epoch 00014: val_loss did not improve from 0.32258\n",
      "1875/1875 [==============================] - 21s 11ms/step - loss: 0.2091 - acc: 0.9208 - val_loss: 0.3388 - val_acc: 0.8869\n",
      "Epoch 15/20\n",
      "1872/1875 [============================>.] - ETA: 0s - loss: 0.2012 - acc: 0.9250\n",
      "Epoch 00015: val_loss did not improve from 0.32258\n",
      "1875/1875 [==============================] - 21s 11ms/step - loss: 0.2012 - acc: 0.9249 - val_loss: 0.3510 - val_acc: 0.8876\n",
      "Epoch 16/20\n",
      "1871/1875 [============================>.] - ETA: 0s - loss: 0.1952 - acc: 0.9253\n",
      "Epoch 00016: val_loss did not improve from 0.32258\n",
      "1875/1875 [==============================] - 21s 11ms/step - loss: 0.1955 - acc: 0.9253 - val_loss: 0.3541 - val_acc: 0.8868\n",
      "Epoch 17/20\n",
      "1873/1875 [============================>.] - ETA: 0s - loss: 0.1878 - acc: 0.9294\n",
      "Epoch 00017: val_loss did not improve from 0.32258\n",
      "1875/1875 [==============================] - 21s 11ms/step - loss: 0.1878 - acc: 0.9294 - val_loss: 0.3476 - val_acc: 0.8894\n",
      "Epoch 18/20\n",
      "1874/1875 [============================>.] - ETA: 0s - loss: 0.1860 - acc: 0.9298\n",
      "Epoch 00018: val_loss did not improve from 0.32258\n",
      "1875/1875 [==============================] - 20s 11ms/step - loss: 0.1859 - acc: 0.9299 - val_loss: 0.3681 - val_acc: 0.8867\n",
      "Epoch 19/20\n",
      "1874/1875 [============================>.] - ETA: 0s - loss: 0.1798 - acc: 0.9315\n",
      "Epoch 00019: val_loss did not improve from 0.32258\n",
      "1875/1875 [==============================] - 20s 11ms/step - loss: 0.1798 - acc: 0.9315 - val_loss: 0.3550 - val_acc: 0.8924\n",
      "Epoch 20/20\n",
      "1871/1875 [============================>.] - ETA: 0s - loss: 0.1777 - acc: 0.9321\n",
      "Epoch 00020: val_loss did not improve from 0.32258\n",
      "1875/1875 [==============================] - 20s 11ms/step - loss: 0.1775 - acc: 0.9322 - val_loss: 0.3761 - val_acc: 0.8891\n"
     ]
    }
   ],
   "source": [
    "history = model.fit(x_train, y_train, \n",
    "                    validation_data=(x_valid, y_valid),\n",
    "                    epochs=20, callbacks=[checkpoint],\n",
    "                    )"
   ]
  },
  {
   "cell_type": "code",
   "execution_count": 18,
   "metadata": {
    "colab": {
     "base_uri": "https://localhost:8080/",
     "height": 36
    },
    "id": "BmOqlrqafya-",
    "outputId": "36780218-e544-4c6d-fb45-1e897db0913e"
   },
   "outputs": [
    {
     "data": {
      "text/plain": [
       "<tensorflow.python.training.tracking.util.CheckpointLoadStatus at 0x7f806dc556a0>"
      ]
     },
     "execution_count": 18,
     "metadata": {
      "tags": []
     },
     "output_type": "execute_result"
    }
   ],
   "source": [
    "#학습 완료 후 Load Weights\n",
    "model.load_weights(checkpoint_path)"
   ]
  },
  {
   "cell_type": "code",
   "execution_count": 19,
   "metadata": {
    "colab": {
     "base_uri": "https://localhost:8080/",
     "height": 55
    },
    "id": "bFkoOAoOgLiR",
    "outputId": "7ccc03e4-2f02-4070-a9a1-d9add70eaea6"
   },
   "outputs": [
    {
     "name": "stdout",
     "output_type": "stream",
     "text": [
      "313/313 [==============================] - 1s 4ms/step - loss: 0.3226 - acc: 0.8918\n"
     ]
    },
    {
     "data": {
      "text/plain": [
       "[0.32257607214450834, 0.8918]"
      ]
     },
     "execution_count": 19,
     "metadata": {
      "tags": []
     },
     "output_type": "execute_result"
    }
   ],
   "source": [
    "# 학습 후 검증\n",
    "model.evaluate(x_valid, y_valid)"
   ]
  }
 ],
 "metadata": {
  "colab": {
   "collapsed_sections": [],
   "name": "안효은_ghquest_session9_딥러닝개론.ipynb",
   "provenance": []
  },
  "kernelspec": {
   "display_name": "Python 3",
   "language": "python",
   "name": "python3"
  },
  "language_info": {
   "codemirror_mode": {
    "name": "ipython",
    "version": 3
   },
   "file_extension": ".py",
   "mimetype": "text/x-python",
   "name": "python",
   "nbconvert_exporter": "python",
   "pygments_lexer": "ipython3",
   "version": "3.8.3"
  }
 },
 "nbformat": 4,
 "nbformat_minor": 1
}
