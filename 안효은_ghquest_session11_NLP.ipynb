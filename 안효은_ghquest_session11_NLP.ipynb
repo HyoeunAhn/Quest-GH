{
  "nbformat": 4,
  "nbformat_minor": 0,
  "metadata": {
    "colab": {
      "name": "안효은_ghquest_session11_NLP.ipynb",
      "provenance": []
    },
    "kernelspec": {
      "display_name": "Python 3",
      "language": "python",
      "name": "python3"
    },
    "language_info": {
      "codemirror_mode": {
        "name": "ipython",
        "version": 3
      },
      "file_extension": ".py",
      "mimetype": "text/x-python",
      "name": "python",
      "nbconvert_exporter": "python",
      "pygments_lexer": "ipython3",
      "version": "3.6.8"
    },
    "accelerator": "GPU"
  },
  "cells": [
    {
      "cell_type": "markdown",
      "metadata": {
        "id": "-dQNemh3fqxD"
      },
      "source": [
        "![image.png](data:image/png;base64,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)"
      ]
    },
    {
      "cell_type": "code",
      "metadata": {
        "id": "BEPc6wxgoqVH",
        "outputId": "39bd635e-630f-4e7f-e680-9c565a19478a",
        "colab": {
          "base_uri": "https://localhost:8080/",
          "height": 541
        }
      },
      "source": [
        "!pip uninstall numpy\n",
        "!pip install --upgrade numpy==1.16.1"
      ],
      "execution_count": 2,
      "outputs": [
        {
          "output_type": "stream",
          "text": [
            "Uninstalling numpy-1.18.5:\n",
            "  Would remove:\n",
            "    /usr/bin/f2py\n",
            "    /usr/bin/f2py3\n",
            "    /usr/bin/f2py3.6\n",
            "    /usr/local/bin/f2py\n",
            "    /usr/local/bin/f2py3\n",
            "    /usr/local/bin/f2py3.6\n",
            "    /usr/local/lib/python3.6/dist-packages/numpy-1.18.5.dist-info/*\n",
            "    /usr/local/lib/python3.6/dist-packages/numpy.libs/libgfortran-ed201abd.so.3.0.0\n",
            "    /usr/local/lib/python3.6/dist-packages/numpy.libs/libopenblasp-r0-34a18dc3.3.7.so\n",
            "    /usr/local/lib/python3.6/dist-packages/numpy/*\n",
            "Proceed (y/n)? y\n",
            "  Successfully uninstalled numpy-1.18.5\n",
            "Collecting numpy==1.16.1\n",
            "\u001b[?25l  Downloading https://files.pythonhosted.org/packages/f5/bf/4981bcbee43934f0adb8f764a1e70ab0ee5a448f6505bd04a87a2fda2a8b/numpy-1.16.1-cp36-cp36m-manylinux1_x86_64.whl (17.3MB)\n",
            "\u001b[K     |████████████████████████████████| 17.3MB 200kB/s \n",
            "\u001b[31mERROR: umap-learn 0.4.6 has requirement numpy>=1.17, but you'll have numpy 1.16.1 which is incompatible.\u001b[0m\n",
            "\u001b[31mERROR: datascience 0.10.6 has requirement folium==0.2.1, but you'll have folium 0.8.3 which is incompatible.\u001b[0m\n",
            "\u001b[31mERROR: albumentations 0.1.12 has requirement imgaug<0.2.7,>=0.2.5, but you'll have imgaug 0.2.9 which is incompatible.\u001b[0m\n",
            "\u001b[?25hInstalling collected packages: numpy\n",
            "Successfully installed numpy-1.16.1\n"
          ],
          "name": "stdout"
        },
        {
          "output_type": "display_data",
          "data": {
            "application/vnd.colab-display-data+json": {
              "pip_warning": {
                "packages": [
                  "numpy"
                ]
              }
            }
          },
          "metadata": {
            "tags": []
          }
        }
      ]
    },
    {
      "cell_type": "code",
      "metadata": {
        "id": "w8tMqe01t6ES",
        "outputId": "5a759f6e-c90b-409e-8c4a-6697bea6d282",
        "colab": {
          "base_uri": "https://localhost:8080/",
          "height": 36
        }
      },
      "source": [
        "import tensorflow.keras\n",
        "tensorflow.keras.__version__"
      ],
      "execution_count": 1,
      "outputs": [
        {
          "output_type": "execute_result",
          "data": {
            "application/vnd.google.colaboratory.intrinsic+json": {
              "type": "string"
            },
            "text/plain": [
              "'2.4.0'"
            ]
          },
          "metadata": {
            "tags": []
          },
          "execution_count": 1
        }
      ]
    },
    {
      "cell_type": "code",
      "metadata": {
        "id": "gHj272fxVnbN",
        "outputId": "7b3f37bc-68b6-466c-ec44-646ee5bf3736",
        "colab": {
          "base_uri": "https://localhost:8080/",
          "height": 36
        }
      },
      "source": [
        "import numpy as np\n",
        "np.__version__"
      ],
      "execution_count": 2,
      "outputs": [
        {
          "output_type": "execute_result",
          "data": {
            "application/vnd.google.colaboratory.intrinsic+json": {
              "type": "string"
            },
            "text/plain": [
              "'1.16.1'"
            ]
          },
          "metadata": {
            "tags": []
          },
          "execution_count": 2
        }
      ]
    },
    {
      "cell_type": "code",
      "metadata": {
        "id": "LLi1dJIGt6EX"
      },
      "source": [
        "from tensorflow.keras.layers import SimpleRNN\n",
        "from tensorflow.keras.models import Sequential\n",
        "from tensorflow.keras.layers import Embedding, SimpleRNN\n",
        "from tensorflow.keras.datasets import imdb\n",
        "from tensorflow.keras.preprocessing import sequence\n",
        "from tensorflow.keras.layers import Dense\n",
        "from tensorflow.keras.layers import LSTM\n",
        "from tensorflow.keras.layers import Bidirectional\n",
        "import matplotlib.pyplot as plt"
      ],
      "execution_count": 3,
      "outputs": []
    },
    {
      "cell_type": "code",
      "metadata": {
        "id": "zL-7lyU6t6Eh",
        "outputId": "a026d2bd-4cb8-48ae-9186-a411c2214c42",
        "colab": {
          "base_uri": "https://localhost:8080/",
          "height": 167
        }
      },
      "source": [
        "max_features = 10000  # 특성으로 사용할 단어의 수\n",
        "maxlen = 500  # 사용할 텍스트의 길이(가장 빈번한 max_features 개의 단어만 사용합니다)\n",
        "batch_size = 32\n",
        "\n",
        "print('데이터 로딩...')\n",
        "\n",
        "(input_train, y_train), (input_test, y_test) = imdb.load_data(num_words=max_features)\n",
        "\n",
        "\n",
        "\"\"\"\n",
        "###\n",
        "# 혹시 안되면 아래 코드로 해보기\n",
        "\n",
        "# save np.load\n",
        "np_load_old = np.load\n",
        "\n",
        "# modify the default parameters of np.load\n",
        "np.load = lambda *a,**k: np_load_old(*a, allow_pickle=True, **k)\n",
        "\n",
        "# call load_data with allow_pickle implicitly set to true\n",
        "(train_data, train_labels), (test_data, test_labels) = imdb.load_data(num_words=10000)\n",
        "\n",
        "# restore np.load for future normal usage\n",
        "np.load = np_load_old\n",
        "\n",
        "###\n",
        "\"\"\"\n",
        "\n",
        "print(len(input_train), '훈련 시퀀스')\n",
        "print(len(input_test), '테스트 시퀀스')\n",
        "\n",
        "#print(input_train[0])\n",
        "#print(len(input_train[0]))\n",
        "\n",
        "print('시퀀스 패딩 (samples x time)')\n",
        "input_train = sequence.pad_sequences(input_train, maxlen=maxlen)\n",
        "input_test = sequence.pad_sequences(input_test, maxlen=maxlen)\n",
        "print('input_train 크기:', input_train.shape)\n",
        "print('input_test 크기:', input_test.shape)\n",
        "\n",
        "#print(input_train[1])"
      ],
      "execution_count": 4,
      "outputs": [
        {
          "output_type": "stream",
          "text": [
            "데이터 로딩...\n",
            "Downloading data from https://storage.googleapis.com/tensorflow/tf-keras-datasets/imdb.npz\n",
            "17465344/17464789 [==============================] - 0s 0us/step\n",
            "25000 훈련 시퀀스\n",
            "25000 테스트 시퀀스\n",
            "시퀀스 패딩 (samples x time)\n",
            "input_train 크기: (25000, 500)\n",
            "input_test 크기: (25000, 500)\n"
          ],
          "name": "stdout"
        }
      ]
    },
    {
      "cell_type": "code",
      "metadata": {
        "id": "hyLc8c_qlaF-",
        "outputId": "9e665944-b683-4c52-ebab-d9dfbee95c47",
        "colab": {
          "base_uri": "https://localhost:8080/",
          "height": 391
        }
      },
      "source": [
        "model = Sequential()\n",
        "model.add(Embedding(max_features, 32))\n",
        "model.add(Bidirectional(LSTM(32, return_sequences=True)))\n",
        "model.add(Bidirectional(LSTM(32, return_sequences=True)))\n",
        "model.add(Bidirectional(LSTM(32, return_sequences=True)))\n",
        "model.add(Bidirectional(LSTM(32, return_sequences=True)))\n",
        "model.add(Bidirectional(LSTM(32, return_sequences=True)))\n",
        "model.summary()"
      ],
      "execution_count": 5,
      "outputs": [
        {
          "output_type": "stream",
          "text": [
            "Model: \"sequential\"\n",
            "_________________________________________________________________\n",
            "Layer (type)                 Output Shape              Param #   \n",
            "=================================================================\n",
            "embedding (Embedding)        (None, None, 32)          320000    \n",
            "_________________________________________________________________\n",
            "bidirectional (Bidirectional (None, None, 64)          16640     \n",
            "_________________________________________________________________\n",
            "bidirectional_1 (Bidirection (None, None, 64)          24832     \n",
            "_________________________________________________________________\n",
            "bidirectional_2 (Bidirection (None, None, 64)          24832     \n",
            "_________________________________________________________________\n",
            "bidirectional_3 (Bidirection (None, None, 64)          24832     \n",
            "_________________________________________________________________\n",
            "bidirectional_4 (Bidirection (None, None, 64)          24832     \n",
            "=================================================================\n",
            "Total params: 435,968\n",
            "Trainable params: 435,968\n",
            "Non-trainable params: 0\n",
            "_________________________________________________________________\n"
          ],
          "name": "stdout"
        }
      ]
    },
    {
      "cell_type": "code",
      "metadata": {
        "id": "WBP121wolaQx",
        "outputId": "04e38cc8-77d0-47fe-c86c-0d5633a89517",
        "colab": {
          "base_uri": "https://localhost:8080/",
          "height": 391
        }
      },
      "source": [
        "model = Sequential()\n",
        "model.add(Embedding(max_features, 32))\n",
        "model.add(Bidirectional(LSTM(32, return_sequences=True)))\n",
        "model.add(Bidirectional(LSTM(32, return_sequences=True)))\n",
        "model.add(Bidirectional(LSTM(32, return_sequences=True)))\n",
        "model.add(Bidirectional(LSTM(32, return_sequences=True)))\n",
        "model.add(Bidirectional(LSTM(32)))\n",
        "model.add(Dense(1, activation='sigmoid'))\n",
        "\n",
        "model.compile(optimizer='rmsprop',\n",
        "              loss='binary_crossentropy',\n",
        "              metrics=['acc'])\n",
        "\n",
        "history = model.fit(input_train, y_train,\n",
        "                    epochs=10,\n",
        "                    batch_size=128,\n",
        "                    validation_split=0.2)"
      ],
      "execution_count": 6,
      "outputs": [
        {
          "output_type": "stream",
          "text": [
            "Epoch 1/10\n",
            "157/157 [==============================] - 40s 256ms/step - loss: 0.5032 - acc: 0.7418 - val_loss: 1.4259 - val_acc: 0.5118\n",
            "Epoch 2/10\n",
            "157/157 [==============================] - 38s 240ms/step - loss: 0.3120 - acc: 0.8750 - val_loss: 0.2898 - val_acc: 0.8844\n",
            "Epoch 3/10\n",
            "157/157 [==============================] - 38s 241ms/step - loss: 0.2304 - acc: 0.9127 - val_loss: 0.3468 - val_acc: 0.8634\n",
            "Epoch 4/10\n",
            "157/157 [==============================] - 38s 239ms/step - loss: 0.1932 - acc: 0.9291 - val_loss: 0.3726 - val_acc: 0.8556\n",
            "Epoch 5/10\n",
            "157/157 [==============================] - 38s 240ms/step - loss: 0.1724 - acc: 0.9378 - val_loss: 0.3005 - val_acc: 0.8790\n",
            "Epoch 6/10\n",
            "157/157 [==============================] - 38s 240ms/step - loss: 0.1363 - acc: 0.9517 - val_loss: 0.3772 - val_acc: 0.8836\n",
            "Epoch 7/10\n",
            "157/157 [==============================] - 38s 240ms/step - loss: 0.1125 - acc: 0.9628 - val_loss: 0.4735 - val_acc: 0.8510\n",
            "Epoch 8/10\n",
            "157/157 [==============================] - 38s 242ms/step - loss: 0.0998 - acc: 0.9667 - val_loss: 0.3580 - val_acc: 0.8528\n",
            "Epoch 9/10\n",
            "157/157 [==============================] - 38s 241ms/step - loss: 0.0824 - acc: 0.9744 - val_loss: 0.4098 - val_acc: 0.8704\n",
            "Epoch 10/10\n",
            "157/157 [==============================] - 38s 241ms/step - loss: 0.0654 - acc: 0.9800 - val_loss: 0.5667 - val_acc: 0.8232\n"
          ],
          "name": "stdout"
        }
      ]
    },
    {
      "cell_type": "code",
      "metadata": {
        "id": "VbxgqLotlaMx",
        "outputId": "a4756efb-b605-47b8-b5bf-fce56b50a0ef",
        "colab": {
          "base_uri": "https://localhost:8080/",
          "height": 545
        }
      },
      "source": [
        "acc = history.history['acc']\n",
        "val_acc = history.history['val_acc']\n",
        "loss = history.history['loss']\n",
        "val_loss = history.history['val_loss']\n",
        "\n",
        "epochs = range(1, len(acc) + 1)\n",
        "\n",
        "plt.plot(epochs, acc, 'bo', label='Training acc')\n",
        "plt.plot(epochs, val_acc, 'b', label='Validation acc')\n",
        "plt.title('Training and validation accuracy')\n",
        "plt.legend()\n",
        "\n",
        "plt.figure()\n",
        "\n",
        "plt.plot(epochs, loss, 'bo', label='Training loss')\n",
        "plt.plot(epochs, val_loss, 'b', label='Validation loss')\n",
        "plt.title('Training and validation loss')\n",
        "plt.legend()\n",
        "\n",
        "plt.show()"
      ],
      "execution_count": 7,
      "outputs": [
        {
          "output_type": "display_data",
          "data": {
            "image/png": "[encoded data removed]",
            "text/plain": [
              "<Figure size 432x288 with 1 Axes>"
            ]
          },
          "metadata": {
            "tags": [],
            "needs_background": "light"
          }
        },
        {
          "output_type": "display_data",
          "data": {
            "image/png": "[encoded data removed]",
            "text/plain": [
              "<Figure size 432x288 with 1 Axes>"
            ]
          },
          "metadata": {
            "tags": [],
            "needs_background": "light"
          }
        }
      ]
    },
    {
      "cell_type": "markdown",
      "metadata": {
        "id": "XAuPIHlYb2fK"
      },
      "source": [
        "이 모델은 시간이 비교적 오래 걸리고, Validation loss를 줄이기 위해 epochs 수를 5로 조정해 모델을 다시 돌려볼게요.   \n",
        "코드가 너무 느리게 돌아가서 런타임을 GPU로 변경했더니 속도가 훨씬 빨라지네요!! (코랩으로 할때는 런타임 GPU로 설정 까먹지 말자,,,ㅠ)\n"
      ]
    },
    {
      "cell_type": "code",
      "metadata": {
        "id": "0DUlqkmjY5Ku",
        "outputId": "cacfddf4-a46c-4923-be4b-e60b43fc4e3e",
        "colab": {
          "base_uri": "https://localhost:8080/",
          "height": 204
        }
      },
      "source": [
        "model = Sequential()\n",
        "model.add(Embedding(max_features, 32))\n",
        "model.add(Bidirectional(LSTM(32, return_sequences=True)))\n",
        "model.add(Bidirectional(LSTM(32, return_sequences=True)))\n",
        "model.add(Bidirectional(LSTM(32, return_sequences=True)))\n",
        "model.add(Bidirectional(LSTM(32, return_sequences=True)))\n",
        "model.add(Bidirectional(LSTM(32)))\n",
        "model.add(Dense(1, activation='sigmoid'))\n",
        "\n",
        "model.compile(optimizer='rmsprop',\n",
        "              loss='binary_crossentropy',\n",
        "              metrics=['acc'])\n",
        "\n",
        "history = model.fit(input_train, y_train,\n",
        "                    epochs=5,\n",
        "                    batch_size=128,\n",
        "                    validation_split=0.2)"
      ],
      "execution_count": 8,
      "outputs": [
        {
          "output_type": "stream",
          "text": [
            "Epoch 1/5\n",
            "157/157 [==============================] - 39s 249ms/step - loss: 0.4835 - acc: 0.7650 - val_loss: 0.4179 - val_acc: 0.8102\n",
            "Epoch 2/5\n",
            "157/157 [==============================] - 37s 236ms/step - loss: 0.2858 - acc: 0.8885 - val_loss: 0.4061 - val_acc: 0.8278\n",
            "Epoch 3/5\n",
            "157/157 [==============================] - 37s 236ms/step - loss: 0.2274 - acc: 0.9132 - val_loss: 0.3267 - val_acc: 0.8660\n",
            "Epoch 4/5\n",
            "157/157 [==============================] - 38s 239ms/step - loss: 0.1866 - acc: 0.9306 - val_loss: 0.3314 - val_acc: 0.8564\n",
            "Epoch 5/5\n",
            "157/157 [==============================] - 38s 241ms/step - loss: 0.1517 - acc: 0.9473 - val_loss: 0.4845 - val_acc: 0.8490\n"
          ],
          "name": "stdout"
        }
      ]
    },
    {
      "cell_type": "markdown",
      "metadata": {
        "id": "bDbUmsrzdSXe"
      },
      "source": [
        "Accuracy에서는 큰 차이가 없는 것 같아요! epoch 3에서 정확도가 86.6%로 가장 높네요.   \n",
        "이제는 node 수를 16으로 조정해보겠습니다."
      ]
    },
    {
      "cell_type": "code",
      "metadata": {
        "id": "w31KRh19Y5Ip",
        "outputId": "23143b13-fbd2-447f-ce92-18d7c7d3cd57",
        "colab": {
          "base_uri": "https://localhost:8080/",
          "height": 204
        }
      },
      "source": [
        "model = Sequential()\n",
        "model.add(Embedding(max_features, 16))\n",
        "model.add(Bidirectional(LSTM(16, return_sequences=True)))\n",
        "model.add(Bidirectional(LSTM(16, return_sequences=True)))\n",
        "model.add(Bidirectional(LSTM(16, return_sequences=True)))\n",
        "model.add(Bidirectional(LSTM(16, return_sequences=True)))\n",
        "model.add(Bidirectional(LSTM(16)))\n",
        "model.add(Dense(1, activation='sigmoid'))\n",
        "\n",
        "model.compile(optimizer='rmsprop',\n",
        "              loss='binary_crossentropy',\n",
        "              metrics=['acc'])\n",
        "\n",
        "history = model.fit(input_train, y_train,\n",
        "                    epochs=5,\n",
        "                    batch_size=128,\n",
        "                    validation_split=0.2)"
      ],
      "execution_count": 9,
      "outputs": [
        {
          "output_type": "stream",
          "text": [
            "Epoch 1/5\n",
            "157/157 [==============================] - 36s 230ms/step - loss: 0.4869 - acc: 0.7614 - val_loss: 0.3952 - val_acc: 0.8332\n",
            "Epoch 2/5\n",
            "157/157 [==============================] - 34s 218ms/step - loss: 0.2961 - acc: 0.8834 - val_loss: 0.4901 - val_acc: 0.7922\n",
            "Epoch 3/5\n",
            "157/157 [==============================] - 34s 217ms/step - loss: 0.2297 - acc: 0.9135 - val_loss: 0.3230 - val_acc: 0.8616\n",
            "Epoch 4/5\n",
            "157/157 [==============================] - 34s 218ms/step - loss: 0.1917 - acc: 0.9322 - val_loss: 0.4727 - val_acc: 0.8450\n",
            "Epoch 5/5\n",
            "157/157 [==============================] - 34s 217ms/step - loss: 0.1615 - acc: 0.9427 - val_loss: 0.3718 - val_acc: 0.8566\n"
          ],
          "name": "stdout"
        }
      ]
    },
    {
      "cell_type": "markdown",
      "metadata": {
        "id": "agpLed5eeevv"
      },
      "source": [
        " node=16, epoch=5일 때 최종 accuracy가 가장 높게 나왔습니다!   \n",
        " 궁금해서 activation을 softmax로 바꿔볼게요"
      ]
    },
    {
      "cell_type": "code",
      "metadata": {
        "id": "976iZOvTY5Gm",
        "outputId": "2225a31b-a91b-409f-cfae-607c94917326",
        "colab": {
          "base_uri": "https://localhost:8080/",
          "height": 204
        }
      },
      "source": [
        "model = Sequential()\n",
        "model.add(Embedding(max_features, 16))\n",
        "model.add(Bidirectional(LSTM(16, return_sequences=True)))\n",
        "model.add(Bidirectional(LSTM(16, return_sequences=True)))\n",
        "model.add(Bidirectional(LSTM(16, return_sequences=True)))\n",
        "model.add(Bidirectional(LSTM(16, return_sequences=True)))\n",
        "model.add(Bidirectional(LSTM(16)))\n",
        "model.add(Dense(1, activation='softmax'))\n",
        "\n",
        "model.compile(optimizer='rmsprop',\n",
        "              loss='binary_crossentropy',\n",
        "              metrics=['acc'])\n",
        "\n",
        "history = model.fit(input_train, y_train,\n",
        "                    epochs=5,\n",
        "                    batch_size=128,\n",
        "                    validation_split=0.2)"
      ],
      "execution_count": 10,
      "outputs": [
        {
          "output_type": "stream",
          "text": [
            "Epoch 1/5\n",
            "157/157 [==============================] - 36s 229ms/step - loss: 7.6010 - acc: 0.5016 - val_loss: 7.7192 - val_acc: 0.4938\n",
            "Epoch 2/5\n",
            "157/157 [==============================] - 33s 210ms/step - loss: 7.6010 - acc: 0.5016 - val_loss: 7.7192 - val_acc: 0.4938\n",
            "Epoch 3/5\n",
            "157/157 [==============================] - 33s 210ms/step - loss: 7.6010 - acc: 0.5016 - val_loss: 7.7192 - val_acc: 0.4938\n",
            "Epoch 4/5\n",
            "157/157 [==============================] - 33s 211ms/step - loss: 7.6010 - acc: 0.5016 - val_loss: 7.7192 - val_acc: 0.4938\n",
            "Epoch 5/5\n",
            "157/157 [==============================] - 33s 212ms/step - loss: 7.6010 - acc: 0.5016 - val_loss: 7.7192 - val_acc: 0.4938\n"
          ],
          "name": "stdout"
        }
      ]
    },
    {
      "cell_type": "markdown",
      "metadata": {
        "id": "4iPbmO7cg39w"
      },
      "source": [
        "이진분류에 사용되는 sigmoid에 비해 softmax는 정확도가 현저히 낮습니다. 각 데이터에 맞는 activation function 선정의 중요성!!"
      ]
    },
    {
      "cell_type": "code",
      "metadata": {
        "id": "ZEW550AFY5AR"
      },
      "source": [
        ""
      ],
      "execution_count": null,
      "outputs": []
    }
  ]
}